{
 "cells": [
  {
   "cell_type": "code",
   "execution_count": 3,
   "metadata": {},
   "outputs": [],
   "source": [
    "import requests as r"
   ]
  },
  {
   "cell_type": "code",
   "execution_count": 4,
   "metadata": {},
   "outputs": [
    {
     "name": "stdout",
     "output_type": "stream",
     "text": [
      "Enter Locationgorakhpur\n"
     ]
    }
   ],
   "source": [
    "api_key = '6bDq5WNz0g1gOFseigiVOty3wg8='\n",
    "url = 'https://maps.googleapis.com/maps/api/staticmap?'\n",
    "location = str(input(\"Enter Location\"))\n",
    "center = location\n",
    "zoom = 10\n",
    "res = r.get(url + \"center=\" +center+ \"zoom\" +str(zoom)+ \"size =1024*768\"+api_key)\n",
    "\n"
   ]
  },
  {
   "cell_type": "code",
   "execution_count": 5,
   "metadata": {},
   "outputs": [
    {
     "name": "stdout",
     "output_type": "stream",
     "text": [
      "https://maps.googleapis.com/maps/api/staticmap?centergorakhpurzoom=10size=1024*768key=6bDq5WNz0g1gOFseigiVOty3wg8=\n"
     ]
    }
   ],
   "source": [
    "print(url + \"center\" +center+ \"zoom=\"+str(zoom)+ \"size=1024*768\"+\"key=\"+api_key)"
   ]
  },
  {
   "cell_type": "code",
   "execution_count": null,
   "metadata": {},
   "outputs": [],
   "source": []
  }
 ],
 "metadata": {
  "kernelspec": {
   "display_name": "Python 3",
   "language": "python",
   "name": "python3"
  },
  "language_info": {
   "codemirror_mode": {
    "name": "ipython",
    "version": 3
   },
   "file_extension": ".py",
   "mimetype": "text/x-python",
   "name": "python",
   "nbconvert_exporter": "python",
   "pygments_lexer": "ipython3",
   "version": "3.7.4"
  }
 },
 "nbformat": 4,
 "nbformat_minor": 2
}
