{
 "cells": [
  {
   "cell_type": "code",
   "execution_count": 43,
   "metadata": {},
   "outputs": [],
   "source": [
    "import requests as r\n"
   ]
  },
  {
   "cell_type": "code",
   "execution_count": 44,
   "metadata": {},
   "outputs": [
    {
     "name": "stdout",
     "output_type": "stream",
     "text": [
      "Enter the city namekanpur\n"
     ]
    }
   ],
   "source": [
    "city = str(input(\"Enter the city name\"))\n",
    "url = \"http://api.waqi.info/feed/\" + city + '/?token='\n",
    "api_key = 'c8d184eb3f2c29062d9a57beee0b25104cdff402'\n",
    "main_url = url + api_key\n",
    "response = r.get(main_url)"
   ]
  },
  {
   "cell_type": "code",
   "execution_count": 45,
   "metadata": {},
   "outputs": [],
   "source": [
    "data = response.json()['data']"
   ]
  },
  {
   "cell_type": "code",
   "execution_count": 46,
   "metadata": {},
   "outputs": [
    {
     "name": "stdout",
     "output_type": "stream",
     "text": [
      "{'aqi': 149, 'idx': 8187, 'attributions': [{'url': 'http://cpcb.nic.in/', 'name': 'CPCB - India Central Pollution Control Board', 'logo': 'India-CPCB.png'}, {'url': 'https://waqi.info/', 'name': 'World Air Quality Index Project'}], 'city': {'geo': [26.4703088, 80.3251749], 'name': 'Nehru Nagar, Kanpur, India', 'url': 'https://aqicn.org/city/india/kanpur/nehru-nagar'}, 'dominentpol': 'pm25', 'iaqi': {'dew': {'v': 18}, 'h': {'v': 30}, 'no2': {'v': 21.9}, 'o3': {'v': 32.3}, 'p': {'v': 744.3333333333334}, 'pm25': {'v': 149}, 'so2': {'v': 1.8}, 't': {'v': 36.300000000000004}, 'w': {'v': 2.1666666666666665}}, 'time': {'s': '2020-10-10 14:00:00', 'tz': '+05:30', 'v': 1602338400, 'iso': '2020-10-10T14:00:00+05:30'}, 'forecast': {'daily': {'o3': [{'avg': 42, 'day': '2020-10-08', 'max': 72, 'min': 22}, {'avg': 41, 'day': '2020-10-09', 'max': 77, 'min': 21}, {'avg': 43, 'day': '2020-10-10', 'max': 90, 'min': 14}, {'avg': 44, 'day': '2020-10-11', 'max': 69, 'min': 28}, {'avg': 35, 'day': '2020-10-12', 'max': 76, 'min': 20}, {'avg': 40, 'day': '2020-10-13', 'max': 71, 'min': 20}, {'avg': 33, 'day': '2020-10-14', 'max': 33, 'min': 31}], 'pm10': [{'avg': 65, 'day': '2020-10-08', 'max': 72, 'min': 57}, {'avg': 56, 'day': '2020-10-09', 'max': 57, 'min': 48}, {'avg': 58, 'day': '2020-10-10', 'max': 61, 'min': 48}, {'avg': 58, 'day': '2020-10-11', 'max': 61, 'min': 55}, {'avg': 57, 'day': '2020-10-12', 'max': 57, 'min': 51}, {'avg': 57, 'day': '2020-10-13', 'max': 57, 'min': 57}, {'avg': 57, 'day': '2020-10-14', 'max': 61, 'min': 46}, {'avg': 55, 'day': '2020-10-15', 'max': 57, 'min': 47}, {'avg': 56, 'day': '2020-10-16', 'max': 61, 'min': 45}], 'pm25': [{'avg': 159, 'day': '2020-10-08', 'max': 168, 'min': 142}, {'avg': 150, 'day': '2020-10-09', 'max': 158, 'min': 137}, {'avg': 150, 'day': '2020-10-10', 'max': 158, 'min': 137}, {'avg': 152, 'day': '2020-10-11', 'max': 158, 'min': 137}, {'avg': 153, 'day': '2020-10-12', 'max': 158, 'min': 137}, {'avg': 158, 'day': '2020-10-13', 'max': 158, 'min': 158}, {'avg': 151, 'day': '2020-10-14', 'max': 161, 'min': 137}, {'avg': 152, 'day': '2020-10-15', 'max': 158, 'min': 137}, {'avg': 153, 'day': '2020-10-16', 'max': 158, 'min': 137}], 'uvi': [{'avg': 2, 'day': '2020-10-08', 'max': 7, 'min': 0}, {'avg': 2, 'day': '2020-10-09', 'max': 7, 'min': 0}, {'avg': 2, 'day': '2020-10-10', 'max': 7, 'min': 0}, {'avg': 1, 'day': '2020-10-11', 'max': 6, 'min': 0}, {'avg': 1, 'day': '2020-10-12', 'max': 6, 'min': 0}, {'avg': 1, 'day': '2020-10-13', 'max': 5, 'min': 0}, {'avg': 3, 'day': '2020-10-14', 'max': 7, 'min': 0}]}}, 'debug': {'sync': '2020-10-10T18:22:14+09:00'}}\n"
     ]
    }
   ],
   "source": [
    "print(data)"
   ]
  },
  {
   "cell_type": "code",
   "execution_count": 47,
   "metadata": {},
   "outputs": [],
   "source": [
    "aqi = data['aqi']\n",
    "iaqi = data['iaqi']"
   ]
  },
  {
   "cell_type": "code",
   "execution_count": 48,
   "metadata": {},
   "outputs": [
    {
     "data": {
      "text/plain": [
       "149"
      ]
     },
     "execution_count": 48,
     "metadata": {},
     "output_type": "execute_result"
    }
   ],
   "source": [
    "aqi"
   ]
  },
  {
   "cell_type": "code",
   "execution_count": 49,
   "metadata": {},
   "outputs": [
    {
     "data": {
      "text/plain": [
       "{'dew': {'v': 18},\n",
       " 'h': {'v': 30},\n",
       " 'no2': {'v': 21.9},\n",
       " 'o3': {'v': 32.3},\n",
       " 'p': {'v': 744.3333333333334},\n",
       " 'pm25': {'v': 149},\n",
       " 'so2': {'v': 1.8},\n",
       " 't': {'v': 36.300000000000004},\n",
       " 'w': {'v': 2.1666666666666665}}"
      ]
     },
     "execution_count": 49,
     "metadata": {},
     "output_type": "execute_result"
    }
   ],
   "source": [
    "iaqi"
   ]
  },
  {
   "cell_type": "code",
   "execution_count": 50,
   "metadata": {},
   "outputs": [],
   "source": [
    "del iaqi['p']"
   ]
  },
  {
   "cell_type": "code",
   "execution_count": 51,
   "metadata": {},
   "outputs": [
    {
     "data": {
      "text/plain": [
       "{'dew': {'v': 18},\n",
       " 'h': {'v': 30},\n",
       " 'no2': {'v': 21.9},\n",
       " 'o3': {'v': 32.3},\n",
       " 'pm25': {'v': 149},\n",
       " 'so2': {'v': 1.8},\n",
       " 't': {'v': 36.300000000000004},\n",
       " 'w': {'v': 2.1666666666666665}}"
      ]
     },
     "execution_count": 51,
     "metadata": {},
     "output_type": "execute_result"
    }
   ],
   "source": [
    "iaqi"
   ]
  },
  {
   "cell_type": "code",
   "execution_count": 52,
   "metadata": {},
   "outputs": [],
   "source": [
    "import matplotlib.pyplot as plt"
   ]
  },
  {
   "cell_type": "code",
   "execution_count": 53,
   "metadata": {},
   "outputs": [],
   "source": [
    "pollutant = [i for i in iaqi]\n",
    "values = [i['v']for i in iaqi.values()]"
   ]
  },
  {
   "cell_type": "code",
   "execution_count": 54,
   "metadata": {},
   "outputs": [
    {
     "data": {
      "text/plain": [
       "['dew', 'h', 'no2', 'o3', 'pm25', 'so2', 't', 'w']"
      ]
     },
     "execution_count": 54,
     "metadata": {},
     "output_type": "execute_result"
    }
   ],
   "source": [
    "pollutant"
   ]
  },
  {
   "cell_type": "code",
   "execution_count": 55,
   "metadata": {},
   "outputs": [
    {
     "data": {
      "text/plain": [
       "[18, 30, 21.9, 32.3, 149, 1.8, 36.300000000000004, 2.1666666666666665]"
      ]
     },
     "execution_count": 55,
     "metadata": {},
     "output_type": "execute_result"
    }
   ],
   "source": [
    "values"
   ]
  },
  {
   "cell_type": "code",
   "execution_count": 58,
   "metadata": {},
   "outputs": [
    {
     "data": {
      "text/plain": [
       "<function matplotlib.pyplot.show(*args, **kw)>"
      ]
     },
     "execution_count": 58,
     "metadata": {},
     "output_type": "execute_result"
    },
    {
     "data": {
      "image/png": "[encoded data removed]",
      "text/plain": [
       "<Figure size 432x288 with 1 Axes>"
      ]
     },
     "metadata": {},
     "output_type": "display_data"
    }
   ],
   "source": [
    "plt.pie(values, labels = pollutant, autopct = '%1.1f%%')\n",
    "plt.show"
   ]
  },
  {
   "cell_type": "code",
   "execution_count": 59,
   "metadata": {},
   "outputs": [],
   "source": [
    "from sklearn.linear_model import LogisticRegression"
   ]
  },
  {
   "cell_type": "code",
   "execution_count": 60,
   "metadata": {},
   "outputs": [],
   "source": [
    "model = LogisticRegression(random_state = 0)"
   ]
  },
  {
   "cell_type": "code",
   "execution_count": 62,
   "metadata": {},
   "outputs": [
    {
     "ename": "TypeError",
     "evalue": "fit() missing 1 required positional argument: 'y'",
     "output_type": "error",
     "traceback": [
      "\u001b[0;31m---------------------------------------------------------------------------\u001b[0m",
      "\u001b[0;31mTypeError\u001b[0m                                 Traceback (most recent call last)",
      "\u001b[0;32m<ipython-input-62-7e00a2f53371>\u001b[0m in \u001b[0;36m<module>\u001b[0;34m\u001b[0m\n\u001b[0;32m----> 1\u001b[0;31m \u001b[0mmodel\u001b[0m\u001b[0;34m.\u001b[0m\u001b[0mfit\u001b[0m\u001b[0;34m(\u001b[0m\u001b[0mvalues\u001b[0m\u001b[0;34m)\u001b[0m\u001b[0;34m\u001b[0m\u001b[0;34m\u001b[0m\u001b[0m\n\u001b[0m",
      "\u001b[0;31mTypeError\u001b[0m: fit() missing 1 required positional argument: 'y'"
     ]
    }
   ],
   "source": [
    "model.fit(values)"
   ]
  },
  {
   "cell_type": "code",
   "execution_count": null,
   "metadata": {},
   "outputs": [],
   "source": []
  }
 ],
 "metadata": {
  "kernelspec": {
   "display_name": "Python 3",
   "language": "python",
   "name": "python3"
  },
  "language_info": {
   "codemirror_mode": {
    "name": "ipython",
    "version": 3
   },
   "file_extension": ".py",
   "mimetype": "text/x-python",
   "name": "python",
   "nbconvert_exporter": "python",
   "pygments_lexer": "ipython3",
   "version": "3.7.4"
  }
 },
 "nbformat": 4,
 "nbformat_minor": 2
}
